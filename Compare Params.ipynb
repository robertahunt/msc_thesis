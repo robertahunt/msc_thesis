{
 "cells": [
  {
   "cell_type": "code",
   "execution_count": 1,
   "metadata": {},
   "outputs": [],
   "source": [
    "import os \n",
    "import torch\n",
    "import numpy as np\n",
    "import pandas as pd\n",
    "\n",
    "from glob import glob\n",
    "from tqdm import tqdm_notebook as tqdm\n",
    "from experiment import load_experiment"
   ]
  },
  {
   "cell_type": "code",
   "execution_count": 2,
   "metadata": {},
   "outputs": [
    {
     "data": {
      "application/vnd.jupyter.widget-view+json": {
       "model_id": "6f60ee28a8004b089007ca4dd6f00797",
       "version_major": 2,
       "version_minor": 0
      },
      "text/plain": [
       "HBox(children=(IntProgress(value=0, max=177), HTML(value='')))"
      ]
     },
     "metadata": {},
     "output_type": "display_data"
    },
    {
     "name": "stdout",
     "output_type": "stream",
     "text": [
      "\n"
     ]
    }
   ],
   "source": [
    "fps = glob('experiments/*.pth.tar')\n",
    "df = []\n",
    "for fp in tqdm(fps):\n",
    "    checkpoint = torch.load(fp)\n",
    "    df += [{'fp':fp,**checkpoint['configuration'],**checkpoint['results']}]\n",
    "df = pd.DataFrame(df)"
   ]
  },
  {
   "cell_type": "code",
   "execution_count": 11,
   "metadata": {},
   "outputs": [],
   "source": [
    "del checkpoint"
   ]
  },
  {
   "cell_type": "code",
   "execution_count": 3,
   "metadata": {},
   "outputs": [],
   "source": [
    "df = df[df['datasets'].map(lambda x: x == ['international', 'copenhagen', 'aarhus'])]\n",
    "\n",
    "#df.sort_values(['loss','best_valid_loss'])"
   ]
  },
  {
   "cell_type": "code",
   "execution_count": 10,
   "metadata": {},
   "outputs": [
    {
     "name": "stderr",
     "output_type": "stream",
     "text": [
      "/home/rob/anaconda3/envs/thesis/lib/python3.7/site-packages/ipykernel_launcher.py:2: DeprecationWarning: \n",
      ".ix is deprecated. Please use\n",
      ".loc for label based indexing or\n",
      ".iloc for positional indexing\n",
      "\n",
      "See the documentation here:\n",
      "http://pandas.pydata.org/pandas-docs/stable/indexing.html#ix-indexer-is-deprecated\n",
      "  \n"
     ]
    },
    {
     "data": {
      "text/plain": [
       "after_DV_combined_transforms                                                  NaN\n",
       "avg_epoch_duration                                         0 days 00:00:41.913809\n",
       "background                                                                    NaN\n",
       "batchSize                                                                       7\n",
       "best_valid_loss                                                           46869.9\n",
       "classifier_epochs                                                             NaN\n",
       "classifier_t_accuracy                                                         NaN\n",
       "classifier_v_accuracy                                                         NaN\n",
       "cuda                                                                         True\n",
       "datasets                                      [international, copenhagen, aarhus]\n",
       "date                                                                   2019-04-08\n",
       "denoise                                                                       NaN\n",
       "earlyStopping                                                                  15\n",
       "epochs                                                                         69\n",
       "fp                              experiments/elbo_4686989613_2019-04-08_Variati...\n",
       "imgSize                                                                (240, 160)\n",
       "loss                                                                         elbo\n",
       "max_num_epochs                                                               1000\n",
       "modelName                                          VariationalAutoEncoderNoUnpool\n",
       "modelParams                     {'imgSize': (160, 240), 'hidden_features': 500...\n",
       "opt                                                                          adam\n",
       "optParams                                                           {'lr': 5e-05}\n",
       "sides                                                                 both_in_one\n",
       "stopped_early                                                               False\n",
       "train_losses                    [113121.59725548516, 75646.12659823084, 61883....\n",
       "trainable_parameters                                                      4997406\n",
       "transforms                      [(resize, {'size': (160, 240)}), hflip, totensor]\n",
       "valid_losses                    [65101.0529037211, 64261.5370529263, 64922.730...\n",
       "Name: 10, dtype: object"
      ]
     },
     "execution_count": 10,
     "metadata": {},
     "output_type": "execute_result"
    }
   ],
   "source": [
    "df = df[df['modelName'].map(lambda x: 'Variation' in x)]\n",
    "df[df['epochs'] > 10].ix[10]"
   ]
  },
  {
   "cell_type": "code",
   "execution_count": 7,
   "metadata": {
    "scrolled": false
   },
   "outputs": [
    {
     "name": "stderr",
     "output_type": "stream",
     "text": [
      "/home/rob/anaconda3/envs/thesis/lib/python3.7/site-packages/ipykernel_launcher.py:1: DeprecationWarning: \n",
      ".ix is deprecated. Please use\n",
      ".loc for label based indexing or\n",
      ".iloc for positional indexing\n",
      "\n",
      "See the documentation here:\n",
      "http://pandas.pydata.org/pandas-docs/stable/indexing.html#ix-indexer-is-deprecated\n",
      "  \"\"\"Entry point for launching an IPython kernel.\n"
     ]
    },
    {
     "data": {
      "text/plain": [
       "after_DV_combined_transforms                                                  NaN\n",
       "avg_epoch_duration                                         0 days 00:01:05.045727\n",
       "background                                                                neutral\n",
       "batchSize                                                                       7\n",
       "best_valid_loss                                                            157687\n",
       "classifier_epochs                                                             NaN\n",
       "classifier_t_accuracy                                                         NaN\n",
       "classifier_v_accuracy                                                         NaN\n",
       "cuda                                                                         True\n",
       "datasets                                      [international, copenhagen, aarhus]\n",
       "date                                                                   2019-05-30\n",
       "denoise                                                                     False\n",
       "earlyStopping                                                                  60\n",
       "epochs                                                                          1\n",
       "fp                              experiments/VariationalAutoEncoderNoUnpool.pth...\n",
       "imgSize                                                                (240, 160)\n",
       "loss                                                                         elbo\n",
       "max_num_epochs                                                                300\n",
       "modelName                                          VariationalAutoEncoderNoUnpool\n",
       "modelParams                     {'imgSize': (160, 240), 'hidden_features': 500...\n",
       "opt                                                                          adam\n",
       "optParams                                                          {'lr': 0.0001}\n",
       "sides                                                                 both_in_one\n",
       "stopped_early                                                               False\n",
       "train_losses                                    [158125.4375, 157712.33841934486]\n",
       "trainable_parameters                                                      3645606\n",
       "transforms                      [(resize, {'size': (160, 240)}), hflip, (rotat...\n",
       "valid_losses                             [157768.42079118497, 157686.91835260115]\n",
       "Name: 84, dtype: object"
      ]
     },
     "execution_count": 7,
     "metadata": {},
     "output_type": "execute_result"
    }
   ],
   "source": [
    "df.sort_values(['classifier_v_accuracy','loss','best_valid_loss']).ix[84]"
   ]
  },
  {
   "cell_type": "code",
   "execution_count": 46,
   "metadata": {},
   "outputs": [
    {
     "data": {
      "text/plain": [
       "Index(['after_DV_combined_transforms', 'avg_epoch_duration', 'batchSize',\n",
       "       'best_valid_loss', 'classifier_epochs', 'classifier_t_accuracy',\n",
       "       'classifier_v_accuracy', 'cuda', 'datasets', 'date', 'denoise',\n",
       "       'earlyStopping', 'epochs', 'fp', 'imgSize', 'loss', 'max_num_epochs',\n",
       "       'modelName', 'modelParams', 'opt', 'optParams', 'sides',\n",
       "       'stopped_early', 'train_losses', 'trainable_parameters', 'transforms',\n",
       "       'valid_losses'],\n",
       "      dtype='object')"
      ]
     },
     "execution_count": 46,
     "metadata": {},
     "output_type": "execute_result"
    }
   ],
   "source": [
    "df.columns"
   ]
  },
  {
   "cell_type": "code",
   "execution_count": null,
   "metadata": {},
   "outputs": [],
   "source": []
  }
 ],
 "metadata": {
  "kernelspec": {
   "display_name": "Python 3",
   "language": "python",
   "name": "python3"
  },
  "language_info": {
   "codemirror_mode": {
    "name": "ipython",
    "version": 3
   },
   "file_extension": ".py",
   "mimetype": "text/x-python",
   "name": "python",
   "nbconvert_exporter": "python",
   "pygments_lexer": "ipython3",
   "version": "3.7.2"
  }
 },
 "nbformat": 4,
 "nbformat_minor": 2
}
